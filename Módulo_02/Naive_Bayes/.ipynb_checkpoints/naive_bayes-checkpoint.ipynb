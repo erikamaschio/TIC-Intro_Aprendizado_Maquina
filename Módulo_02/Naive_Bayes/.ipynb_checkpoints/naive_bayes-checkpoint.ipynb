{
 "cells": [
  {
   "cell_type": "code",
   "execution_count": 1,
   "metadata": {},
   "outputs": [],
   "source": [
    "import numpy as np\n",
    "import re\n",
    "import pandas as pd\n",
    "import nltk\n",
    "from nltk.stem.porter import PorterStemmer"
   ]
  },
  {
   "cell_type": "code",
   "execution_count": 2,
   "metadata": {},
   "outputs": [],
   "source": [
    "stop_words = ['i', 'me', 'my', 'myself', 'we', \n",
    "              'our', 'ours', 'ourselves', 'you', \n",
    "              \"you're\", \"you've\", \"you'll\", \"you'd\", \n",
    "              'your', 'yours', 'yourself', 'yourselves', \n",
    "              'he', 'him', 'his', 'himself', 'she', \"she's\", \n",
    "              'her', 'hers', 'herself', 'it', \"it's\", 'its', \n",
    "              'itself', 'they', 'them', 'their', 'theirs', 'themselves', \n",
    "              'what', 'which', 'who', 'whom', 'this', 'that', \"that'll\", \n",
    "              'these', 'those', 'am', 'is', 'are', 'was', 'were', 'be', \n",
    "              'been', 'being', 'have', 'has', 'had', 'having', 'do', \n",
    "              'does', 'did', 'doing', 'a', 'an', 'the', 'and', 'but', \n",
    "              'if', 'or', 'because', 'as', 'until', 'while', 'of', 'at', \n",
    "              'by', 'for', 'with', 'about', 'against', 'between', 'into',\n",
    "              'through', 'during', 'before', 'after', 'above', 'below', \n",
    "              'to', 'from', 'up', 'down', 'in', 'out', 'on', 'off', 'over', \n",
    "              'under', 'again', 'further', 'then', 'once', 'here', 'there', \n",
    "              'when', 'where', 'why', 'how', 'all', 'any', 'both', 'each',\n",
    "              'few', 'more', 'most', 'other', 'some', 'such', 'no', 'nor',\n",
    "              'not', 'only', 'own', 'same', 'so', 'than', 'too', 'very', \n",
    "              's', 't', 'can', 'will', 'just', 'don', \"don't\", 'should', \n",
    "              \"should've\", 'now', 'd', 'll', 'm', 'o', 're', 've', 'y', 'ain', \n",
    "              'aren', \"aren't\", 'couldn', \"couldn't\", 'didn', \"didn't\", 'doesn', \n",
    "              \"doesn't\", 'hadn', \"hadn't\", 'hasn', \"hasn't\", 'haven', \"haven't\",\n",
    "              'isn', \"isn't\", 'ma', 'mightn', \"mightn't\", 'mustn', \"mustn't\", \n",
    "              'needn', \"needn't\", 'shan', \"shan't\", 'shouldn', \"shouldn't\", 'wasn',\n",
    "              \"wasn't\", 'weren', \"weren't\", 'won', \"won't\", 'wouldn', \"wouldn't\"]"
   ]
  },
  {
   "cell_type": "code",
   "execution_count": 3,
   "metadata": {},
   "outputs": [
    {
     "data": {
      "text/html": [
       "<div>\n",
       "<style scoped>\n",
       "    .dataframe tbody tr th:only-of-type {\n",
       "        vertical-align: middle;\n",
       "    }\n",
       "\n",
       "    .dataframe tbody tr th {\n",
       "        vertical-align: top;\n",
       "    }\n",
       "\n",
       "    .dataframe thead th {\n",
       "        text-align: right;\n",
       "    }\n",
       "</style>\n",
       "<table border=\"1\" class=\"dataframe\">\n",
       "  <thead>\n",
       "    <tr style=\"text-align: right;\">\n",
       "      <th></th>\n",
       "      <th>id</th>\n",
       "      <th>title</th>\n",
       "      <th>author</th>\n",
       "      <th>label</th>\n",
       "    </tr>\n",
       "  </thead>\n",
       "  <tbody>\n",
       "    <tr>\n",
       "      <th>0</th>\n",
       "      <td>0</td>\n",
       "      <td>House Dem Aide: We Didn’t Even See Comey’s Let...</td>\n",
       "      <td>Darrell Lucus</td>\n",
       "      <td>1</td>\n",
       "    </tr>\n",
       "    <tr>\n",
       "      <th>1</th>\n",
       "      <td>1</td>\n",
       "      <td>FLYNN: Hillary Clinton, Big Woman on Campus - ...</td>\n",
       "      <td>Daniel J. Flynn</td>\n",
       "      <td>0</td>\n",
       "    </tr>\n",
       "    <tr>\n",
       "      <th>2</th>\n",
       "      <td>2</td>\n",
       "      <td>Why the Truth Might Get You Fired</td>\n",
       "      <td>Consortiumnews.com</td>\n",
       "      <td>1</td>\n",
       "    </tr>\n",
       "    <tr>\n",
       "      <th>3</th>\n",
       "      <td>3</td>\n",
       "      <td>15 Civilians Killed In Single US Airstrike Hav...</td>\n",
       "      <td>Jessica Purkiss</td>\n",
       "      <td>1</td>\n",
       "    </tr>\n",
       "    <tr>\n",
       "      <th>4</th>\n",
       "      <td>4</td>\n",
       "      <td>Iranian woman jailed for fictional unpublished...</td>\n",
       "      <td>Howard Portnoy</td>\n",
       "      <td>1</td>\n",
       "    </tr>\n",
       "  </tbody>\n",
       "</table>\n",
       "</div>"
      ],
      "text/plain": [
       "   id                                              title              author  \\\n",
       "0   0  House Dem Aide: We Didn’t Even See Comey’s Let...       Darrell Lucus   \n",
       "1   1  FLYNN: Hillary Clinton, Big Woman on Campus - ...     Daniel J. Flynn   \n",
       "2   2                  Why the Truth Might Get You Fired  Consortiumnews.com   \n",
       "3   3  15 Civilians Killed In Single US Airstrike Hav...     Jessica Purkiss   \n",
       "4   4  Iranian woman jailed for fictional unpublished...      Howard Portnoy   \n",
       "\n",
       "   label  \n",
       "0      1  \n",
       "1      0  \n",
       "2      1  \n",
       "3      1  \n",
       "4      1  "
      ]
     },
     "execution_count": 3,
     "metadata": {},
     "output_type": "execute_result"
    }
   ],
   "source": [
    "news_data = pd.read_csv('../../data/aulas/news.csv')\n",
    "news_data.head()"
   ]
  },
  {
   "cell_type": "code",
   "execution_count": 4,
   "metadata": {},
   "outputs": [
    {
     "name": "stdout",
     "output_type": "stream",
     "text": [
      "<class 'pandas.core.frame.DataFrame'>\n",
      "RangeIndex: 20800 entries, 0 to 20799\n",
      "Data columns (total 4 columns):\n",
      " #   Column  Non-Null Count  Dtype \n",
      "---  ------  --------------  ----- \n",
      " 0   id      20800 non-null  int64 \n",
      " 1   title   20242 non-null  object\n",
      " 2   author  18843 non-null  object\n",
      " 3   label   20800 non-null  int64 \n",
      "dtypes: int64(2), object(2)\n",
      "memory usage: 487.6+ KB\n"
     ]
    }
   ],
   "source": [
    "news_data.info()"
   ]
  },
  {
   "cell_type": "code",
   "execution_count": 5,
   "metadata": {},
   "outputs": [],
   "source": [
    "# Substitui valores nulos (NaN) no DataFrame news_data por strings vazias (''), garantindo que não haja valores ausentes nas operações subsequentes.\n",
    "news_data = news_data.fillna('')"
   ]
  },
  {
   "cell_type": "code",
   "execution_count": 6,
   "metadata": {},
   "outputs": [
    {
     "data": {
      "text/plain": [
       "id        0\n",
       "title     0\n",
       "author    0\n",
       "label     0\n",
       "dtype: int64"
      ]
     },
     "execution_count": 6,
     "metadata": {},
     "output_type": "execute_result"
    }
   ],
   "source": [
    "# Conta e exibe o número de valores nulos (ausentes) em cada coluna do DataFrame news_data, para verificar se ainda existem valores faltantes após o preenchimento.\n",
    "news_data.isnull().sum()"
   ]
  },
  {
   "cell_type": "code",
   "execution_count": 7,
   "metadata": {},
   "outputs": [],
   "source": [
    "# Substitui valores nulos (NaN) no DataFrame news_data por strings vazias (''), garantindo que não haja valores ausentes nas operações subsequentes.\n",
    "news_data = news_data.fillna('')"
   ]
  },
  {
   "cell_type": "markdown",
   "metadata": {},
   "source": [
    "# Stemming"
   ]
  },
  {
   "cell_type": "code",
   "execution_count": 8,
   "metadata": {},
   "outputs": [],
   "source": [
    "# Cria uma instância do PorterStemmer, um algoritmo usado para realizar stemming, que reduz as palavras às suas raízes ou radicais (ex.: \"running\" → \"run\").\n",
    "port_stem = PorterStemmer()"
   ]
  },
  {
   "cell_type": "code",
   "execution_count": 9,
   "metadata": {},
   "outputs": [],
   "source": [
    "# Define a função stemming para processar e limpar texto, reduzindo palavras ao seu radical.\n",
    "# Parâmetros:\n",
    "#   - content: texto a ser processado.\n",
    "# Passos:\n",
    "#   1. Usa re.sub para substituir todos os caracteres que não sejam letras (a-z, A-Z) por espaços.\n",
    "#   2. Converte o texto para letras minúsculas com lower().\n",
    "#   3. Divide o texto em uma lista de palavras usando split().\n",
    "#   4. Aplica o stemming a cada palavra na lista, ignorando palavras presentes em stop_words.\n",
    "#      - Usa a função stem do PorterStemmer para reduzir palavras ao radical.\n",
    "#   5. Junta as palavras processadas de volta em uma string usando ' '.join().\n",
    "# Retorno:\n",
    "#   - Uma string contendo o texto limpo e processado.\n",
    "\n",
    "def stemming(content):\n",
    "    review = re.sub('[^a-zA-Z]',' ',content)\n",
    "    review = review.lower()\n",
    "    review = review.split()\n",
    "    review = [port_stem.stem(word) for word in review if not word in stop_words]\n",
    "    review = ' '.join(review)\n",
    "    return review"
   ]
  },
  {
   "cell_type": "code",
   "execution_count": 10,
   "metadata": {},
   "outputs": [],
   "source": [
    "# Aplica a função stemming a cada elemento da coluna 'content' no DataFrame news_data, processando e limpando o texto em todas as linhas. O resultado é armazenado de volta na coluna 'content'.\n",
    "news_data['content'] = news_data['content'].apply(stemming)"
   ]
  },
  {
   "cell_type": "code",
   "execution_count": 11,
   "metadata": {},
   "outputs": [
    {
     "data": {
      "text/plain": [
       "0    darrel lucu hous dem aid even see comey letter...\n",
       "1    daniel j flynn flynn hillari clinton big woman...\n",
       "2               consortiumnew com truth might get fire\n",
       "3    jessica purkiss civilian kill singl us airstri...\n",
       "4    howard portnoy iranian woman jail fiction unpu...\n",
       "Name: content, dtype: object"
      ]
     },
     "execution_count": 11,
     "metadata": {},
     "output_type": "execute_result"
    }
   ],
   "source": [
    "# Exibe os primeiros 5 registros da coluna 'content' no DataFrame news_data, permitindo visualizar o conteúdo processado após a aplicação do stemming.\n",
    "news_data['content'].head()"
   ]
  },
  {
   "cell_type": "code",
   "execution_count": 12,
   "metadata": {},
   "outputs": [],
   "source": [
    "# X: Extrai os valores da coluna 'content' como um array NumPy, representando as variáveis independentes (features) para o modelo.\n",
    "# y: Extrai os valores da coluna 'label' como um array NumPy, representando as variáveis dependentes (alvos) para o modelo\n",
    "\n",
    "X = news_data['content'].values\n",
    "y = news_data['label'].values"
   ]
  },
  {
   "cell_type": "markdown",
   "metadata": {},
   "source": [
    "# TF-IDF"
   ]
  },
  {
   "cell_type": "code",
   "execution_count": 13,
   "metadata": {},
   "outputs": [],
   "source": [
    "# Importa a classe TfidfVectorizer da biblioteca scikit-learn, usada para converter texto em uma matriz de recursos numéricos baseada na frequência do termo (TF) e frequência inversa do documento (IDF).\n",
    "from sklearn.feature_extraction.text import TfidfVectorizer"
   ]
  },
  {
   "cell_type": "code",
   "execution_count": 14,
   "metadata": {},
   "outputs": [],
   "source": [
    "# Cria uma instância do TfidfVectorizer para transformar o texto em uma representação numérica baseada no TF-IDF.\n",
    "# fit_transform(X): Ajusta o vetorizador aos dados de texto X e, ao mesmo tempo, transforma-os em uma matriz esparsa\n",
    "# onde cada linha representa um documento e cada coluna representa uma palavra única no vocabulário.\n",
    "\n",
    "vectorizer = TfidfVectorizer()\n",
    "X = vectorizer.fit_transform(X)"
   ]
  },
  {
   "cell_type": "code",
   "execution_count": 17,
   "metadata": {},
   "outputs": [],
   "source": [
    "# Importa a função train_test_split da biblioteca scikit-learn, usada para dividir os dados em conjuntos de treino e teste.\n",
    "from sklearn.model_selection import train_test_split"
   ]
  },
  {
   "cell_type": "code",
   "execution_count": 18,
   "metadata": {},
   "outputs": [],
   "source": [
    "# Divide os dados em conjuntos de treino e teste:\n",
    "# X_train e y_train são os dados de treino (variáveis independentes e dependentes, respectivamente).\n",
    "# X_test e y_test são os dados de teste (variáveis independentes e dependentes, respectivamente).\n",
    "# test_size=0.3 significa que 30% dos dados serão usados para teste, e o restante (70%) será usado para treino.\n",
    "# random_state=101 garante que a divisão dos dados seja reprodutível.\n",
    "\n",
    "X_train, X_test, y_train, y_test = train_test_split(X, y, test_size=0.3, random_state=101)"
   ]
  },
  {
   "cell_type": "code",
   "execution_count": 19,
   "metadata": {},
   "outputs": [
    {
     "name": "stdout",
     "output_type": "stream",
     "text": [
      "  (0, 12958)\t0.33950622872556196\n",
      "  (0, 12842)\t0.3232304689577807\n",
      "  (0, 5469)\t0.30140922161045747\n",
      "  (0, 2220)\t0.31004399946914174\n",
      "  (0, 1268)\t0.33331847204135595\n",
      "  (0, 8623)\t0.30846964228664014\n",
      "  (0, 1627)\t0.2729433574074474\n",
      "  (0, 311)\t0.2370646474139764\n",
      "  (0, 8534)\t0.2855674224224232\n",
      "  (0, 10793)\t0.36114206713970187\n",
      "  (0, 15295)\t0.08655594427821867\n",
      "  (0, 16996)\t0.08821502722057027\n",
      "  (0, 10306)\t0.17054081261709328\n",
      "  (1, 3732)\t0.3915966363846314\n",
      "  (1, 3314)\t0.3862190396394902\n",
      "  (1, 10677)\t0.4527188282827226\n",
      "  (1, 11259)\t0.3145342713467437\n",
      "  (1, 12840)\t0.3096081376574435\n",
      "  (1, 13014)\t0.33777512378155045\n",
      "  (1, 469)\t0.2845240719071562\n",
      "  (1, 11155)\t0.32046466547016283\n",
      "  (2, 8695)\t0.5453031510728447\n",
      "  (2, 15295)\t0.3851115774131578\n",
      "  (2, 16996)\t0.3924933009252318\n",
      "  (2, 10306)\t0.37939185984259366\n",
      "  :\t:\n",
      "  (14557, 4680)\t0.25775069892089064\n",
      "  (14557, 13775)\t0.2723897360085363\n",
      "  (14557, 5233)\t0.2556282697087412\n",
      "  (14558, 8209)\t0.407793149055482\n",
      "  (14558, 8061)\t0.3607746576291789\n",
      "  (14558, 14787)\t0.3317661764131519\n",
      "  (14558, 3271)\t0.29590732937356234\n",
      "  (14558, 6169)\t0.34810729338117496\n",
      "  (14558, 7878)\t0.3283816129386619\n",
      "  (14558, 10254)\t0.29504488984321453\n",
      "  (14558, 10431)\t0.3805645206243178\n",
      "  (14558, 15582)\t0.1403478406972884\n",
      "  (14558, 1894)\t0.15913805772598272\n",
      "  (14559, 12476)\t0.4298931055654191\n",
      "  (14559, 11816)\t0.3958209413904151\n",
      "  (14559, 10432)\t0.36909912059431077\n",
      "  (14559, 8235)\t0.29788155768879765\n",
      "  (14559, 9240)\t0.3125218308583031\n",
      "  (14559, 7838)\t0.3063988577654787\n",
      "  (14559, 2188)\t0.25079823453275196\n",
      "  (14559, 1064)\t0.2695293321064478\n",
      "  (14559, 15295)\t0.10599451053488353\n",
      "  (14559, 16996)\t0.10802618710981735\n",
      "  (14559, 10306)\t0.10442026893881924\n",
      "  (14559, 4973)\t0.2695293321064478\n"
     ]
    }
   ],
   "source": [
    "# Exibe o conteúdo de X_train, que é a matriz de características (features) do conjunto de treino.\n",
    "# Isso permite visualizar as primeiras entradas dos dados de treino após a transformação TF-IDF.\n",
    "print(X_train)"
   ]
  },
  {
   "cell_type": "code",
   "execution_count": 20,
   "metadata": {},
   "outputs": [],
   "source": [
    "# Importa a classe MultinomialNB da biblioteca scikit-learn, que implementa o classificador Naive Bayes para problemas de classificação,\n",
    "# especialmente adequado para dados de texto, onde as variáveis seguem uma distribuição multinomial.\n",
    "\n",
    "from sklearn.naive_bayes import MultinomialNB"
   ]
  },
  {
   "cell_type": "code",
   "execution_count": 21,
   "metadata": {},
   "outputs": [],
   "source": [
    "# Cria uma instância do classificador MultinomialNB, que será utilizado para treinar o modelo Naive Bayes\n",
    "# com base nos dados de treino, adequado para problemas de classificação com características distribuídas de forma multinomial.\n",
    "\n",
    "nb = MultinomialNB()"
   ]
  },
  {
   "cell_type": "code",
   "execution_count": 22,
   "metadata": {},
   "outputs": [
    {
     "data": {
      "text/html": [
       "<style>#sk-container-id-1 {color: black;background-color: white;}#sk-container-id-1 pre{padding: 0;}#sk-container-id-1 div.sk-toggleable {background-color: white;}#sk-container-id-1 label.sk-toggleable__label {cursor: pointer;display: block;width: 100%;margin-bottom: 0;padding: 0.3em;box-sizing: border-box;text-align: center;}#sk-container-id-1 label.sk-toggleable__label-arrow:before {content: \"▸\";float: left;margin-right: 0.25em;color: #696969;}#sk-container-id-1 label.sk-toggleable__label-arrow:hover:before {color: black;}#sk-container-id-1 div.sk-estimator:hover label.sk-toggleable__label-arrow:before {color: black;}#sk-container-id-1 div.sk-toggleable__content {max-height: 0;max-width: 0;overflow: hidden;text-align: left;background-color: #f0f8ff;}#sk-container-id-1 div.sk-toggleable__content pre {margin: 0.2em;color: black;border-radius: 0.25em;background-color: #f0f8ff;}#sk-container-id-1 input.sk-toggleable__control:checked~div.sk-toggleable__content {max-height: 200px;max-width: 100%;overflow: auto;}#sk-container-id-1 input.sk-toggleable__control:checked~label.sk-toggleable__label-arrow:before {content: \"▾\";}#sk-container-id-1 div.sk-estimator input.sk-toggleable__control:checked~label.sk-toggleable__label {background-color: #d4ebff;}#sk-container-id-1 div.sk-label input.sk-toggleable__control:checked~label.sk-toggleable__label {background-color: #d4ebff;}#sk-container-id-1 input.sk-hidden--visually {border: 0;clip: rect(1px 1px 1px 1px);clip: rect(1px, 1px, 1px, 1px);height: 1px;margin: -1px;overflow: hidden;padding: 0;position: absolute;width: 1px;}#sk-container-id-1 div.sk-estimator {font-family: monospace;background-color: #f0f8ff;border: 1px dotted black;border-radius: 0.25em;box-sizing: border-box;margin-bottom: 0.5em;}#sk-container-id-1 div.sk-estimator:hover {background-color: #d4ebff;}#sk-container-id-1 div.sk-parallel-item::after {content: \"\";width: 100%;border-bottom: 1px solid gray;flex-grow: 1;}#sk-container-id-1 div.sk-label:hover label.sk-toggleable__label {background-color: #d4ebff;}#sk-container-id-1 div.sk-serial::before {content: \"\";position: absolute;border-left: 1px solid gray;box-sizing: border-box;top: 0;bottom: 0;left: 50%;z-index: 0;}#sk-container-id-1 div.sk-serial {display: flex;flex-direction: column;align-items: center;background-color: white;padding-right: 0.2em;padding-left: 0.2em;position: relative;}#sk-container-id-1 div.sk-item {position: relative;z-index: 1;}#sk-container-id-1 div.sk-parallel {display: flex;align-items: stretch;justify-content: center;background-color: white;position: relative;}#sk-container-id-1 div.sk-item::before, #sk-container-id-1 div.sk-parallel-item::before {content: \"\";position: absolute;border-left: 1px solid gray;box-sizing: border-box;top: 0;bottom: 0;left: 50%;z-index: -1;}#sk-container-id-1 div.sk-parallel-item {display: flex;flex-direction: column;z-index: 1;position: relative;background-color: white;}#sk-container-id-1 div.sk-parallel-item:first-child::after {align-self: flex-end;width: 50%;}#sk-container-id-1 div.sk-parallel-item:last-child::after {align-self: flex-start;width: 50%;}#sk-container-id-1 div.sk-parallel-item:only-child::after {width: 0;}#sk-container-id-1 div.sk-dashed-wrapped {border: 1px dashed gray;margin: 0 0.4em 0.5em 0.4em;box-sizing: border-box;padding-bottom: 0.4em;background-color: white;}#sk-container-id-1 div.sk-label label {font-family: monospace;font-weight: bold;display: inline-block;line-height: 1.2em;}#sk-container-id-1 div.sk-label-container {text-align: center;}#sk-container-id-1 div.sk-container {/* jupyter's `normalize.less` sets `[hidden] { display: none; }` but bootstrap.min.css set `[hidden] { display: none !important; }` so we also need the `!important` here to be able to override the default hidden behavior on the sphinx rendered scikit-learn.org. See: https://github.com/scikit-learn/scikit-learn/issues/21755 */display: inline-block !important;position: relative;}#sk-container-id-1 div.sk-text-repr-fallback {display: none;}</style><div id=\"sk-container-id-1\" class=\"sk-top-container\"><div class=\"sk-text-repr-fallback\"><pre>MultinomialNB()</pre><b>In a Jupyter environment, please rerun this cell to show the HTML representation or trust the notebook. <br />On GitHub, the HTML representation is unable to render, please try loading this page with nbviewer.org.</b></div><div class=\"sk-container\" hidden><div class=\"sk-item\"><div class=\"sk-estimator sk-toggleable\"><input class=\"sk-toggleable__control sk-hidden--visually\" id=\"sk-estimator-id-1\" type=\"checkbox\" checked><label for=\"sk-estimator-id-1\" class=\"sk-toggleable__label sk-toggleable__label-arrow\">MultinomialNB</label><div class=\"sk-toggleable__content\"><pre>MultinomialNB()</pre></div></div></div></div></div>"
      ],
      "text/plain": [
       "MultinomialNB()"
      ]
     },
     "execution_count": 22,
     "metadata": {},
     "output_type": "execute_result"
    }
   ],
   "source": [
    "# Treina o modelo Naive Bayes (MultinomialNB) usando os dados de treino (X_train e y_train),\n",
    "# ajustando os parâmetros do modelo para aprender a relação entre as características e os rótulos.\n",
    "\n",
    "nb.fit(X_train, y_train)"
   ]
  },
  {
   "cell_type": "code",
   "execution_count": 23,
   "metadata": {},
   "outputs": [],
   "source": [
    "# Faz previsões sobre o conjunto de teste (X_test) usando o modelo Naive Bayes treinado (nb),\n",
    "# gerando os rótulos preditos para as amostras no conjunto de teste.\n",
    "\n",
    "preds = nb.predict(X_test)"
   ]
  },
  {
   "cell_type": "code",
   "execution_count": 24,
   "metadata": {},
   "outputs": [
    {
     "data": {
      "text/plain": [
       "array([0, 1, 0, ..., 0, 1, 1], dtype=int64)"
      ]
     },
     "execution_count": 24,
     "metadata": {},
     "output_type": "execute_result"
    }
   ],
   "source": [
    "preds"
   ]
  },
  {
   "cell_type": "code",
   "execution_count": 25,
   "metadata": {},
   "outputs": [
    {
     "data": {
      "text/plain": [
       "array([0, 1, 0, ..., 0, 1, 1], dtype=int64)"
      ]
     },
     "execution_count": 25,
     "metadata": {},
     "output_type": "execute_result"
    }
   ],
   "source": [
    "y_test"
   ]
  },
  {
   "cell_type": "code",
   "execution_count": 26,
   "metadata": {},
   "outputs": [],
   "source": [
    "# Importa a função accuracy_score da biblioteca scikit-learn, que é usada para calcular a precisão do modelo,\n",
    "# comparando os rótulos preditos com os rótulos reais (verdadeiros) do conjunto de teste.\n",
    "\n",
    "from sklearn.metrics import accuracy_score"
   ]
  },
  {
   "cell_type": "code",
   "execution_count": 27,
   "metadata": {},
   "outputs": [
    {
     "name": "stdout",
     "output_type": "stream",
     "text": [
      "0.9496794871794871\n"
     ]
    }
   ],
   "source": [
    "# Calcula e exibe a precisão do modelo, comparando os rótulos reais (y_test) com os rótulos preditos (preds),\n",
    "# mostrando a porcentagem de acertos do modelo no conjunto de teste.\n",
    "\n",
    "print(accuracy_score(y_test, preds))"
   ]
  },
  {
   "cell_type": "code",
   "execution_count": null,
   "metadata": {},
   "outputs": [],
   "source": []
  }
 ],
 "metadata": {
  "kernelspec": {
   "display_name": "Python 3 (ipykernel)",
   "language": "python",
   "name": "python3"
  },
  "language_info": {
   "codemirror_mode": {
    "name": "ipython",
    "version": 3
   },
   "file_extension": ".py",
   "mimetype": "text/x-python",
   "name": "python",
   "nbconvert_exporter": "python",
   "pygments_lexer": "ipython3",
   "version": "3.12.4"
  }
 },
 "nbformat": 4,
 "nbformat_minor": 4
}
